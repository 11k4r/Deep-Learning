{
  "nbformat": 4,
  "nbformat_minor": 0,
  "metadata": {
    "accelerator": "GPU",
    "colab": {
      "name": "VGG_TSNE_CLUSTERING.ipynb",
      "provenance": [],
      "collapsed_sections": []
    },
    "kernelspec": {
      "display_name": "Python 3",
      "name": "python3"
    },
    "language_info": {
      "name": "python"
    }
  },
  "cells": [
    {
      "cell_type": "markdown",
      "metadata": {
        "id": "nwzDcTQ2ct-N"
      },
      "source": [
        "                 \n",
        "1. DIMENSION REDUCTION BY TSNE\n",
        "2. CLUSTERING BY K-MEANS ALGORITHM  \n",
        "3. TAKING  A REPRESENTATIVE FROM EACH GROUP ,  TO TAKE  30 VARIED PHOTOS\n",
        "\n",
        "\n"
      ]
    },
    {
      "cell_type": "code",
      "metadata": {
        "id": "ngaEb_1NiX-t",
        "colab": {
          "base_uri": "https://localhost:8080/"
        },
        "outputId": "ad65a960-4ce3-4831-c5c1-ebcb74ce938d"
      },
      "source": [
        "from google.colab import drive\n",
        "drive.mount('/content/drive')"
      ],
      "execution_count": 1,
      "outputs": [
        {
          "output_type": "stream",
          "text": [
            "Mounted at /content/drive\n"
          ],
          "name": "stdout"
        }
      ]
    },
    {
      "cell_type": "code",
      "metadata": {
        "id": "cEQPbjVPDhFP"
      },
      "source": [
        "import numpy as np\n",
        " \n",
        "import torchvision.transforms as transforms\n",
        "from torchvision.utils import make_grid\n",
        " \n",
        "from torch.utils.data import DataLoader\n",
        "from torchvision import datasets\n",
        "from torch.autograd import Variable\n",
        " \n",
        "import torch.nn as nn\n",
        "import torch.nn.functional as F\n",
        "import torch\n",
        " \n",
        "import os\n",
        "import glob\n",
        " \n",
        "import matplotlib.pyplot as plt\n",
        "from tqdm.notebook import tqdm\n",
        "import warnings\n",
        "from tensorflow import keras,summary\n",
        "from keras.applications.vgg16 import VGG16\n",
        "from sklearn.manifold import TSNE\n",
        "\n",
        "from sklearn.cluster import KMeans\n",
        "import collections\n",
        "\n",
        "import sys\n",
        "sys.path.insert(0, \"sample_data\")\n",
        "#from Functions import Load_images \n",
        "import Functions"
      ],
      "execution_count": 2,
      "outputs": []
    },
    {
      "cell_type": "markdown",
      "metadata": {
        "id": "JQPO0A6rcT5q"
      },
      "source": [
        "LOAD MONET IMAGES"
      ]
    },
    {
      "cell_type": "code",
      "metadata": {
        "colab": {
          "base_uri": "https://localhost:8080/"
        },
        "id": "wynBkqLqCSVZ",
        "outputId": "82d933d9-591b-44fd-cc64-2769d8a6eed8"
      },
      "source": [
        "images = Functions.Load_images()"
      ],
      "execution_count": 3,
      "outputs": [
        {
          "output_type": "stream",
          "text": [
            "100%|██████████| 300/300 [02:01<00:00,  2.48it/s]\n"
          ],
          "name": "stderr"
        }
      ]
    },
    {
      "cell_type": "code",
      "metadata": {
        "id": "3pJSM2wCCWOB",
        "colab": {
          "base_uri": "https://localhost:8080/"
        },
        "outputId": "5aad7801-c092-49ce-ecb2-489166b8612f"
      },
      "source": [
        "images = images/255\n",
        "print(images[0][0][0][0])"
      ],
      "execution_count": 4,
      "outputs": [
        {
          "output_type": "stream",
          "text": [
            "0.6980392156862745\n"
          ],
          "name": "stdout"
        }
      ]
    },
    {
      "cell_type": "markdown",
      "metadata": {
        "id": "VuxA3_BadHBg"
      },
      "source": [
        "\n",
        "DIMENSION REDUCTION BY TSNE"
      ]
    },
    {
      "cell_type": "code",
      "metadata": {
        "id": "71Pv8KiV5Qsn",
        "colab": {
          "base_uri": "https://localhost:8080/"
        },
        "outputId": "2f7bd0d1-3f46-46c8-f739-103a5db3533e"
      },
      "source": [
        "\n",
        "tsneAllImages = TSNE(n_components=700,method='exact').fit_transform( images.reshape(300,-1))\n",
        "print(tsneAllImages.shape)"
      ],
      "execution_count": 5,
      "outputs": [
        {
          "output_type": "stream",
          "text": [
            "(300, 700)\n"
          ],
          "name": "stdout"
        }
      ]
    },
    {
      "cell_type": "markdown",
      "metadata": {
        "id": "zuoyhN_8iCwv"
      },
      "source": [
        "CLUSTERING BY K-MEANS ALGORITHM"
      ]
    },
    {
      "cell_type": "code",
      "metadata": {
        "colab": {
          "base_uri": "https://localhost:8080/"
        },
        "id": "RIZlRWRGEJAQ",
        "outputId": "6ddeff56-f2cc-4a35-deb6-874cd7880ecf"
      },
      "source": [
        "kmeans = KMeans(n_clusters=30).fit(tsneAllImages)\n",
        "collections.Counter(kmeans.labels_)\n"
      ],
      "execution_count": 6,
      "outputs": [
        {
          "output_type": "execute_result",
          "data": {
            "text/plain": [
              "Counter({0: 1,\n",
              "         1: 1,\n",
              "         2: 17,\n",
              "         3: 1,\n",
              "         4: 1,\n",
              "         5: 13,\n",
              "         6: 11,\n",
              "         7: 19,\n",
              "         8: 1,\n",
              "         9: 18,\n",
              "         10: 1,\n",
              "         11: 1,\n",
              "         12: 1,\n",
              "         13: 14,\n",
              "         14: 12,\n",
              "         15: 19,\n",
              "         16: 1,\n",
              "         17: 14,\n",
              "         18: 65,\n",
              "         19: 1,\n",
              "         20: 16,\n",
              "         21: 11,\n",
              "         22: 16,\n",
              "         23: 19,\n",
              "         24: 1,\n",
              "         25: 1,\n",
              "         26: 21,\n",
              "         27: 1,\n",
              "         28: 1,\n",
              "         29: 1})"
            ]
          },
          "metadata": {
            "tags": []
          },
          "execution_count": 6
        }
      ]
    },
    {
      "cell_type": "markdown",
      "metadata": {
        "id": "8IylEH3GhdGE"
      },
      "source": [
        "\n",
        "TAKING  A REPRESENTATIVE FROM EACH GROUP ,  TO TAKE  30 VARIED PHOTOS"
      ]
    },
    {
      "cell_type": "code",
      "metadata": {
        "colab": {
          "base_uri": "https://localhost:8080/"
        },
        "id": "HQ6w5dXZELTl",
        "outputId": "90328fd0-a27c-44aa-d634-8911f59b1cb0"
      },
      "source": [
        "indexes_fromeach_cluster=[]\n",
        "for i in range (30):\n",
        "  indexes_fromeach_cluster.append(np.nonzero(kmeans.labels_ == i)[0][0])\n",
        "print(\"The selected Indexes are:\")\n",
        "print(indexes_fromeach_cluster)"
      ],
      "execution_count": 7,
      "outputs": [
        {
          "output_type": "stream",
          "text": [
            "The selected Indexes are:\n",
            "[36, 15, 6, 17, 95, 9, 3, 37, 201, 62, 13, 45, 120, 1, 22, 28, 16, 2, 4, 74, 31, 40, 0, 14, 113, 196, 55, 207, 47, 79]\n"
          ],
          "name": "stdout"
        }
      ]
    }
  ]
}