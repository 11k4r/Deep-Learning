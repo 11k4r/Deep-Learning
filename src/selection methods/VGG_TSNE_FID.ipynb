{
  "nbformat": 4,
  "nbformat_minor": 0,
  "metadata": {
    "accelerator": "GPU",
    "colab": {
      "name": "VGG_TSNE_FID.ipynb",
      "provenance": [],
      "collapsed_sections": []
    },
    "kernelspec": {
      "display_name": "Python 3",
      "name": "python3"
    },
    "language_info": {
      "name": "python"
    }
  },
  "cells": [
    {
      "cell_type": "markdown",
      "metadata": {
        "id": "nwzDcTQ2ct-N"
      },
      "source": [
        "1. **FEATURES EXTRACTION** USING VGG-16\n",
        "2. DIMENSION REDUCTION BY **TSNE**                   \n",
        "3. CALCULATE **FID**(Frechet Inception Distance) FOR RANDOMALLY VECTORS OF INDEXES \n",
        "4. SELECT THE INDEXES THAT RECEIVED THE LOWEST FID \n",
        "\n",
        "\n"
      ]
    },
    {
      "cell_type": "code",
      "metadata": {
        "id": "ngaEb_1NiX-t",
        "colab": {
          "base_uri": "https://localhost:8080/"
        },
        "outputId": "15860dbb-a04c-41aa-bfc6-08e7e76aa2b6"
      },
      "source": [
        "from google.colab import drive\n",
        "drive.mount('/content/drive')"
      ],
      "execution_count": 1,
      "outputs": [
        {
          "output_type": "stream",
          "text": [
            "Mounted at /content/drive\n"
          ],
          "name": "stdout"
        }
      ]
    },
    {
      "cell_type": "code",
      "metadata": {
        "id": "cEQPbjVPDhFP"
      },
      "source": [
        "import numpy as np\n",
        " \n",
        "import torchvision.transforms as transforms\n",
        "from torchvision.utils import make_grid\n",
        " \n",
        "from torch.utils.data import DataLoader\n",
        "from torchvision import datasets\n",
        "from torch.autograd import Variable\n",
        " \n",
        "import torch.nn as nn\n",
        "import torch.nn.functional as F\n",
        "import torch\n",
        " \n",
        "import os\n",
        "import glob\n",
        " \n",
        "import matplotlib.pyplot as plt\n",
        "from tqdm.notebook import tqdm\n",
        "import warnings\n",
        "from tensorflow import keras,summary\n",
        "from keras.applications.vgg16 import VGG16\n",
        "from sklearn.manifold import TSNE\n",
        "\n",
        "from sklearn.cluster import KMeans\n",
        "import collections\n",
        "\n",
        "import sys\n",
        "sys.path.insert(0, \"sample_data\")\n",
        "#from Functions import Load_images \n",
        "import Functions"
      ],
      "execution_count": 2,
      "outputs": []
    },
    {
      "cell_type": "markdown",
      "metadata": {
        "id": "JQPO0A6rcT5q"
      },
      "source": [
        "LOAD MONET IMAGES"
      ]
    },
    {
      "cell_type": "code",
      "metadata": {
        "colab": {
          "base_uri": "https://localhost:8080/"
        },
        "id": "wynBkqLqCSVZ",
        "outputId": "4d696e7b-8cdb-4365-ca79-b13fb9e189f8"
      },
      "source": [
        "images = Functions.Load_images()"
      ],
      "execution_count": 3,
      "outputs": [
        {
          "output_type": "stream",
          "text": [
            "100%|██████████| 300/300 [02:03<00:00,  2.43it/s]\n"
          ],
          "name": "stderr"
        }
      ]
    },
    {
      "cell_type": "code",
      "metadata": {
        "id": "3pJSM2wCCWOB",
        "colab": {
          "base_uri": "https://localhost:8080/"
        },
        "outputId": "bd3d59df-d80e-4503-d25c-5c1420392da7"
      },
      "source": [
        "images = images/255\n",
        "print(images[0][0][0][0])"
      ],
      "execution_count": 4,
      "outputs": [
        {
          "output_type": "stream",
          "text": [
            "0.6980392156862745\n"
          ],
          "name": "stdout"
        }
      ]
    },
    {
      "cell_type": "markdown",
      "metadata": {
        "id": "VvEe51Ycccx4"
      },
      "source": [
        "FEATURES EXTRACTION USING VGG (without fully connected layer, using 'imagenet' weights)"
      ]
    },
    {
      "cell_type": "code",
      "metadata": {
        "colab": {
          "base_uri": "https://localhost:8080/"
        },
        "id": "m6464ntODT29",
        "outputId": "c2f0aaee-1062-44e7-8224-1f7c7e89aa43"
      },
      "source": [
        "#Featers Extraction by VGG Network -without fully connected layer(include_top=False)\n",
        "ModelVGG16 = VGG16(include_top=False,input_shape=(256, 256, 3),weights='imagenet')\n",
        "ModelVGG16.summary()"
      ],
      "execution_count": 5,
      "outputs": [
        {
          "output_type": "stream",
          "text": [
            "Downloading data from https://storage.googleapis.com/tensorflow/keras-applications/vgg16/vgg16_weights_tf_dim_ordering_tf_kernels_notop.h5\n",
            "58892288/58889256 [==============================] - 0s 0us/step\n",
            "58900480/58889256 [==============================] - 0s 0us/step\n",
            "Model: \"vgg16\"\n",
            "_________________________________________________________________\n",
            "Layer (type)                 Output Shape              Param #   \n",
            "=================================================================\n",
            "input_1 (InputLayer)         [(None, 256, 256, 3)]     0         \n",
            "_________________________________________________________________\n",
            "block1_conv1 (Conv2D)        (None, 256, 256, 64)      1792      \n",
            "_________________________________________________________________\n",
            "block1_conv2 (Conv2D)        (None, 256, 256, 64)      36928     \n",
            "_________________________________________________________________\n",
            "block1_pool (MaxPooling2D)   (None, 128, 128, 64)      0         \n",
            "_________________________________________________________________\n",
            "block2_conv1 (Conv2D)        (None, 128, 128, 128)     73856     \n",
            "_________________________________________________________________\n",
            "block2_conv2 (Conv2D)        (None, 128, 128, 128)     147584    \n",
            "_________________________________________________________________\n",
            "block2_pool (MaxPooling2D)   (None, 64, 64, 128)       0         \n",
            "_________________________________________________________________\n",
            "block3_conv1 (Conv2D)        (None, 64, 64, 256)       295168    \n",
            "_________________________________________________________________\n",
            "block3_conv2 (Conv2D)        (None, 64, 64, 256)       590080    \n",
            "_________________________________________________________________\n",
            "block3_conv3 (Conv2D)        (None, 64, 64, 256)       590080    \n",
            "_________________________________________________________________\n",
            "block3_pool (MaxPooling2D)   (None, 32, 32, 256)       0         \n",
            "_________________________________________________________________\n",
            "block4_conv1 (Conv2D)        (None, 32, 32, 512)       1180160   \n",
            "_________________________________________________________________\n",
            "block4_conv2 (Conv2D)        (None, 32, 32, 512)       2359808   \n",
            "_________________________________________________________________\n",
            "block4_conv3 (Conv2D)        (None, 32, 32, 512)       2359808   \n",
            "_________________________________________________________________\n",
            "block4_pool (MaxPooling2D)   (None, 16, 16, 512)       0         \n",
            "_________________________________________________________________\n",
            "block5_conv1 (Conv2D)        (None, 16, 16, 512)       2359808   \n",
            "_________________________________________________________________\n",
            "block5_conv2 (Conv2D)        (None, 16, 16, 512)       2359808   \n",
            "_________________________________________________________________\n",
            "block5_conv3 (Conv2D)        (None, 16, 16, 512)       2359808   \n",
            "_________________________________________________________________\n",
            "block5_pool (MaxPooling2D)   (None, 8, 8, 512)         0         \n",
            "=================================================================\n",
            "Total params: 14,714,688\n",
            "Trainable params: 14,714,688\n",
            "Non-trainable params: 0\n",
            "_________________________________________________________________\n"
          ],
          "name": "stdout"
        }
      ]
    },
    {
      "cell_type": "code",
      "metadata": {
        "colab": {
          "base_uri": "https://localhost:8080/"
        },
        "id": "9QcKjKf9D0oE",
        "outputId": "ed07e3a0-a17a-4d79-b18e-f1e48fe8bdd8"
      },
      "source": [
        "ImgPred = ModelVGG16.predict(images)\n",
        "ImgPred.shape"
      ],
      "execution_count": 6,
      "outputs": [
        {
          "output_type": "execute_result",
          "data": {
            "text/plain": [
              "(300, 8, 8, 512)"
            ]
          },
          "metadata": {
            "tags": []
          },
          "execution_count": 6
        }
      ]
    },
    {
      "cell_type": "markdown",
      "metadata": {
        "id": "jy2jeolU38sO"
      },
      "source": [
        "DIMENSION REDUCTION BY TSNE"
      ]
    },
    {
      "cell_type": "code",
      "metadata": {
        "id": "7Q_IUzmf39Zd",
        "colab": {
          "base_uri": "https://localhost:8080/"
        },
        "outputId": "d119d224-7601-486f-8a7e-e41b549a4455"
      },
      "source": [
        "tsneAllImages = TSNE(n_components=700,method='exact').fit_transform( ImgPred.reshape(300,-1))\n",
        "print(tsneAllImages.shape)"
      ],
      "execution_count": 7,
      "outputs": [
        {
          "output_type": "stream",
          "text": [
            "(300, 700)\n"
          ],
          "name": "stdout"
        }
      ]
    },
    {
      "cell_type": "markdown",
      "metadata": {
        "id": "DlQKFvmc5oCq"
      },
      "source": [
        "* CALCULATE **FID** (Frechet Inception Distance) FOR RANDOMALLY VECTORS OF INDEXES \n",
        "* SELECT THE INDEXES THAT RECEIVED THE LOWEST FID "
      ]
    },
    {
      "cell_type": "code",
      "metadata": {
        "id": "O5WM0K0q1-iI",
        "colab": {
          "base_uri": "https://localhost:8080/"
        },
        "outputId": "7ce34b61-fb21-43d1-9d73-0c3e29cd4548"
      },
      "source": [
        "min_fid,indexes_with_min_fid= Functions.Find_indexes_whith_min_Fid_from_random_vectors(tsneAllImages,10)"
      ],
      "execution_count": 8,
      "outputs": [
        {
          "output_type": "stream",
          "text": [
            "FID (temp min): 769.849\n",
            "1\n",
            "[225 147 183   1  22 100  46 131 192  94  29 134  66 143 249 179  15  92\n",
            " 128  51  31 129 247 110 161 165 251  65  37 132]\n",
            "FID (temp min): 731.264\n",
            "7\n",
            "[ 78 278 261  37 264 123  19 222 104 214 112 209 180   1 264  98  27  76\n",
            "  51  46   6 145 235 190 223 262  29 135 131 117]\n",
            "MIN Final---FID : 731.264\n",
            "The Selected Indexes Are: \n",
            "[ 78 278 261  37 264 123  19 222 104 214 112 209 180   1 264  98  27  76\n",
            "  51  46   6 145 235 190 223 262  29 135 131 117]\n"
          ],
          "name": "stdout"
        }
      ]
    }
  ]
}